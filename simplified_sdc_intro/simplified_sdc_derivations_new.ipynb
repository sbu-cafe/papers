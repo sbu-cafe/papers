{
 "cells": [
  {
   "cell_type": "markdown",
   "metadata": {},
   "source": [
    "# Derivations for the Castro Simplified-SDC Solver\n"
   ]
  },
  {
   "cell_type": "code",
   "execution_count": 1,
   "metadata": {},
   "outputs": [
    {
     "name": "stdout",
     "output_type": "stream",
     "text": [
      "IPython console for SymPy 1.8 (Python 3.9.6-64-bit) (ground types: python)\n",
      "\n",
      "These commands were executed:\n",
      ">>> from __future__ import division\n",
      ">>> from sympy import *\n",
      ">>> x, y, z, t = symbols('x y z t')\n",
      ">>> k, m, n = symbols('k m n', integer=True)\n",
      ">>> f, g, h = symbols('f g h', cls=Function)\n",
      ">>> init_printing()\n",
      "\n",
      "Documentation can be found at https://docs.sympy.org/1.8/\n",
      "\n"
     ]
    }
   ],
   "source": [
    "from sympy import init_session\n",
    "init_session()"
   ]
  },
  {
   "cell_type": "markdown",
   "metadata": {},
   "source": [
    "## Jacobian\n",
    "\n",
    "We want to compute the Jacobian $\\partial w/\\partial \\mathcal{U}$ with\n",
    "\n",
    "$\\mathcal{U} = (\\rho X_\\alpha, \\rho X_\\beta, \\rho e)^\\intercal$\n",
    "\n",
    "$w = (X_\\alpha, X_\\beta, e)^\\intercal$\n",
    "\n",
    "We'll start by writing down\n",
    "\n",
    "$A = \\partial \\mathcal{U}/\\partial w$\n",
    "\n",
    "and then find its inverse"
   ]
  },
  {
   "cell_type": "code",
   "execution_count": 2,
   "metadata": {},
   "outputs": [],
   "source": [
    "r, E, e, Xa, Xb, U, K = symbols(r\"rho E e X_{\\alpha} X_{\\beta} U K\")\n",
    "dedr, dedT, dedXa, dedXb = symbols(r\"\\frac{\\partial{}e}{\\partial\\rho} \\frac{\\partial{}e}{\\partial{}T} \" +\n",
    "                                   r\"\\frac{\\partial{}e}{\\partial{}X_{\\alpha}} \\frac{\\partial{}e}{\\partial{}X_{\\beta}}\")"
   ]
  },
  {
   "cell_type": "code",
   "execution_count": 3,
   "metadata": {},
   "outputs": [],
   "source": [
    "A = Matrix(\n",
    "    [[r, 0, 0],\n",
    "     [0, r, 0],\n",
    "     [r*dedXa, r*dedXb, r]])"
   ]
  },
  {
   "cell_type": "code",
   "execution_count": 4,
   "metadata": {},
   "outputs": [
    {
     "data": {
      "image/png": "[encoded data removed]",
      "text/latex": [
       "$\\displaystyle \\left[\\begin{matrix}\\rho & 0 & 0\\\\0 & \\rho & 0\\\\\\frac{\\partial{}e}{\\partial{}X_{\\alpha}} \\rho & \\frac{\\partial{}e}{\\partial{}X_{\\beta}} \\rho & \\rho\\end{matrix}\\right]$"
      ],
      "text/plain": [
       "⎡                    ρ                                           0            \n",
       "⎢                                                                             \n",
       "⎢                    0                                           ρ            \n",
       "⎢                                                                             \n",
       "⎣\\frac{\\partial{}e}{\\partial{}X_{\\alpha}}⋅ρ  \\frac{\\partial{}e}{\\partial{}X_{\\\n",
       "\n",
       "          0⎤\n",
       "           ⎥\n",
       "          0⎥\n",
       "           ⎥\n",
       "beta}}⋅ρ  ρ⎦"
      ]
     },
     "execution_count": 4,
     "metadata": {},
     "output_type": "execute_result"
    }
   ],
   "source": [
    "A"
   ]
  },
  {
   "cell_type": "markdown",
   "metadata": {},
   "source": [
    "The inverse of $A$ is $\\partial w/\\partial \\mathcal{U}$"
   ]
  },
  {
   "cell_type": "code",
   "execution_count": 5,
   "metadata": {},
   "outputs": [
    {
     "data": {
      "image/png": "[encoded data removed]",
      "text/latex": [
       "$\\displaystyle \\left[\\begin{matrix}\\frac{1}{\\rho} & 0 & 0\\\\0 & \\frac{1}{\\rho} & 0\\\\- \\frac{\\frac{\\partial{}e}{\\partial{}X_{\\alpha}}}{\\rho} & - \\frac{\\frac{\\partial{}e}{\\partial{}X_{\\beta}}}{\\rho} & \\frac{1}{\\rho}\\end{matrix}\\right]$"
      ],
      "text/plain": [
       "⎡                    1                                                        \n",
       "⎢                    ─                                           0            \n",
       "⎢                    ρ                                                        \n",
       "⎢                                                                             \n",
       "⎢                                                                1            \n",
       "⎢                    0                                           ─            \n",
       "⎢                                                                ρ            \n",
       "⎢                                                                             \n",
       "⎢-\\frac{\\partial{}e}{\\partial{}X_{\\alpha}}   -\\frac{\\partial{}e}{\\partial{}X_{\n",
       "⎢──────────────────────────────────────────  ─────────────────────────────────\n",
       "⎣                    ρ                                           ρ            \n",
       "\n",
       "           ⎤\n",
       "          0⎥\n",
       "           ⎥\n",
       "           ⎥\n",
       "           ⎥\n",
       "          0⎥\n",
       "           ⎥\n",
       "           ⎥\n",
       "\\beta}}   1⎥\n",
       "────────  ─⎥\n",
       "          ρ⎦"
      ]
     },
     "execution_count": 5,
     "metadata": {},
     "output_type": "execute_result"
    }
   ],
   "source": [
    "simplify(A.inv())"
   ]
  },
  {
   "cell_type": "markdown",
   "metadata": {},
   "source": [
    "Now the reaction part"
   ]
  },
  {
   "cell_type": "code",
   "execution_count": 7,
   "metadata": {},
   "outputs": [],
   "source": [
    "oma, domadXr, domadXa, domadXb, domade = symbols(r\"\\omega_\\alpha \\frac{\\partial\\omega_\\alpha}{\\partial\\rho} \\frac{\\partial{}\\omega_\\alpha}{\\partial{}X_\\alpha} \\frac{\\partial{}\\omega_\\alpha}{\\partial{}X_\\beta} \\frac{\\partial{}\\omega_\\alpha}{\\partial{}e}\")\n",
    "omb, dombdXr, dombdXa, dombdXb, dombde = symbols(r\"\\omega_\\beta \\frac{\\partial{}\\omega_\\beta}{\\partial\\rho} \\frac{\\partial{}\\omega_\\beta}{\\partial{}X_\\alpha} \\frac{\\partial{}\\omega_\\beta}{\\partial{}X_\\beta} \\frac{\\partial{}\\omega_\\beta}{\\partial{}e}\")\n",
    "S, dSdr, dSdXa, dSdXb, dSde = symbols(r\"S \\frac{\\partial{}S}{\\partial\\rho} \\frac{\\partial{}S}{\\partial{}X_\\alpha} \\frac{\\partial{}S}{\\partial{}X_\\beta} \\frac{\\partial{}S}{\\partial{}e}\")\n"
   ]
  },
  {
   "cell_type": "code",
   "execution_count": 10,
   "metadata": {},
   "outputs": [
    {
     "data": {
      "image/png": "[encoded data removed]",
      "text/latex": [
       "$\\displaystyle \\left[\\begin{matrix}\\frac{\\partial{}\\omega_\\alpha}{\\partial{}X_\\alpha} \\rho & \\frac{\\partial{}\\omega_\\alpha}{\\partial{}X_\\beta} \\rho & \\frac{\\partial{}\\omega_\\alpha}{\\partial{}e} \\rho\\\\\\frac{\\partial{}\\omega_\\beta}{\\partial{}X_\\alpha} \\rho & \\frac{\\partial{}\\omega_\\beta}{\\partial{}X_\\beta} \\rho & \\frac{\\partial{}\\omega_\\beta}{\\partial{}e} \\rho\\\\\\frac{\\partial{}S}{\\partial{}X_\\alpha} \\rho & \\frac{\\partial{}S}{\\partial{}X_\\beta} \\rho & \\frac{\\partial{}S}{\\partial{}e} \\rho\\end{matrix}\\right]$"
      ],
      "text/plain": [
       "⎡\\frac{\\partial{}\\omega_\\alpha}{\\partial{}X_\\alpha}⋅ρ  \\frac{\\partial{}\\omega_\n",
       "⎢                                                                             \n",
       "⎢\\frac{\\partial{}\\omega_\\beta}{\\partial{}X_\\alpha}⋅ρ   \\frac{\\partial{}\\omega_\n",
       "⎢                                                                             \n",
       "⎣      \\frac{\\partial{}S}{\\partial{}X_\\alpha}⋅ρ              \\frac{\\partial{}S\n",
       "\n",
       "\\alpha}{\\partial{}X_\\beta}⋅ρ  \\frac{\\partial{}\\omega_\\alpha}{\\partial{}e}⋅ρ⎤\n",
       "                                                                           ⎥\n",
       "\\beta}{\\partial{}X_\\beta}⋅ρ   \\frac{\\partial{}\\omega_\\beta}{\\partial{}e}⋅ρ ⎥\n",
       "                                                                           ⎥\n",
       "}{\\partial{}X_\\beta}⋅ρ              \\frac{\\partial{}S}{\\partial{}e}⋅ρ      ⎦"
      ]
     },
     "execution_count": 10,
     "metadata": {},
     "output_type": "execute_result"
    }
   ],
   "source": [
    "dRdw = Matrix(\n",
    "     [[r*domadXa, r*domadXb, r*domade],\n",
    "      [r*dombdXa, r*dombdXb, r*dombde],\n",
    "      [r*dSdXa, r*dSdXb, r*dSde]])\n",
    "dRdw"
   ]
  },
  {
   "cell_type": "code",
   "execution_count": 11,
   "metadata": {},
   "outputs": [
    {
     "data": {
      "image/png": "[encoded data removed]",
      "text/latex": [
       "$\\displaystyle \\left[\\begin{matrix}\\frac{\\partial{}\\omega_\\alpha}{\\partial{}X_\\alpha} - \\frac{\\partial{}\\omega_\\alpha}{\\partial{}e} \\frac{\\partial{}e}{\\partial{}X_{\\alpha}} & \\frac{\\partial{}\\omega_\\alpha}{\\partial{}X_\\beta} - \\frac{\\partial{}\\omega_\\alpha}{\\partial{}e} \\frac{\\partial{}e}{\\partial{}X_{\\beta}} & \\frac{\\partial{}\\omega_\\alpha}{\\partial{}e}\\\\\\frac{\\partial{}\\omega_\\beta}{\\partial{}X_\\alpha} - \\frac{\\partial{}\\omega_\\beta}{\\partial{}e} \\frac{\\partial{}e}{\\partial{}X_{\\alpha}} & \\frac{\\partial{}\\omega_\\beta}{\\partial{}X_\\beta} - \\frac{\\partial{}\\omega_\\beta}{\\partial{}e} \\frac{\\partial{}e}{\\partial{}X_{\\beta}} & \\frac{\\partial{}\\omega_\\beta}{\\partial{}e}\\\\\\frac{\\partial{}S}{\\partial{}X_\\alpha} - \\frac{\\partial{}S}{\\partial{}e} \\frac{\\partial{}e}{\\partial{}X_{\\alpha}} & \\frac{\\partial{}S}{\\partial{}X_\\beta} - \\frac{\\partial{}S}{\\partial{}e} \\frac{\\partial{}e}{\\partial{}X_{\\beta}} & \\frac{\\partial{}S}{\\partial{}e}\\end{matrix}\\right]$"
      ],
      "text/plain": [
       "⎡\\frac{\\partial{}\\omega_\\alpha}{\\partial{}X_\\alpha} - \\frac{\\partial{}\\omega_\\\n",
       "⎢                                                                             \n",
       "⎢ \\frac{\\partial{}\\omega_\\beta}{\\partial{}X_\\alpha} - \\frac{\\partial{}\\omega_\\\n",
       "⎢                                                                             \n",
       "⎣            \\frac{\\partial{}S}{\\partial{}X_\\alpha} - \\frac{\\partial{}S}{\\part\n",
       "\n",
       "alpha}{\\partial{}e}⋅\\frac{\\partial{}e}{\\partial{}X_{\\alpha}}  \\frac{\\partial{}\n",
       "                                                                              \n",
       "beta}{\\partial{}e}⋅\\frac{\\partial{}e}{\\partial{}X_{\\alpha}}    \\frac{\\partial{\n",
       "                                                                              \n",
       "ial{}e}⋅\\frac{\\partial{}e}{\\partial{}X_{\\alpha}}                          \\fra\n",
       "\n",
       "\\omega_\\alpha}{\\partial{}X_\\beta} - \\frac{\\partial{}\\omega_\\alpha}{\\partial{}e\n",
       "                                                                              \n",
       "}\\omega_\\beta}{\\partial{}X_\\beta} - \\frac{\\partial{}\\omega_\\beta}{\\partial{}e}\n",
       "                                                                              \n",
       "c{\\partial{}S}{\\partial{}X_\\beta} - \\frac{\\partial{}S}{\\partial{}e}⋅\\frac{\\par\n",
       "\n",
       "}⋅\\frac{\\partial{}e}{\\partial{}X_{\\beta}}  \\frac{\\partial{}\\omega_\\alpha}{\\par\n",
       "                                                                              \n",
       "⋅\\frac{\\partial{}e}{\\partial{}X_{\\beta}}   \\frac{\\partial{}\\omega_\\beta}{\\part\n",
       "                                                                              \n",
       "tial{}e}{\\partial{}X_{\\beta}}                    \\frac{\\partial{}S}{\\partial{}\n",
       "\n",
       "tial{}e}⎤\n",
       "        ⎥\n",
       "ial{}e} ⎥\n",
       "        ⎥\n",
       "e}      ⎦"
      ]
     },
     "execution_count": 11,
     "metadata": {},
     "output_type": "execute_result"
    }
   ],
   "source": [
    "dwdU = simplify(A.inv())\n",
    "dRdU = simplify(dRdw * dwdU)\n",
    "dRdU"
   ]
  },
  {
   "cell_type": "markdown",
   "metadata": {},
   "source": [
    "## Second Attempt\n",
    "\n",
    "This adds $\\rho$\n",
    "\n",
    "$\\mathcal{U} = (\\rho, \\rho_\\alpha, \\rho X_\\beta, \\rho e)^\\intercal$\n",
    "\n",
    "$w = (\\rho, X_\\alpha, X_\\beta, e)^\\intercal$\n"
   ]
  },
  {
   "cell_type": "code",
   "execution_count": 14,
   "metadata": {},
   "outputs": [],
   "source": [
    "A = Matrix(\n",
    "    [[1, 0, 0, 0],\n",
    "     [Xa, r, 0, 0],\n",
    "     [Xb, 0, r, 0],\n",
    "     [e, r*dedXa, r*dedXb, r]])"
   ]
  },
  {
   "cell_type": "code",
   "execution_count": 15,
   "metadata": {},
   "outputs": [
    {
     "data": {
      "image/png": "[encoded data removed]",
      "text/latex": [
       "$\\displaystyle \\left[\\begin{matrix}1 & 0 & 0 & 0\\\\X_{\\alpha} & \\rho & 0 & 0\\\\X_{\\beta} & 0 & \\rho & 0\\\\e & \\frac{\\partial{}e}{\\partial{}X_{\\alpha}} \\rho & \\frac{\\partial{}e}{\\partial{}X_{\\beta}} \\rho & \\rho\\end{matrix}\\right]$"
      ],
      "text/plain": [
       "⎡    1                           0                                           0\n",
       "⎢                                                                             \n",
       "⎢X_{\\alpha}                      ρ                                           0\n",
       "⎢                                                                             \n",
       "⎢X_{\\beta}                       0                                           ρ\n",
       "⎢                                                                             \n",
       "⎣    e       \\frac{\\partial{}e}{\\partial{}X_{\\alpha}}⋅ρ  \\frac{\\partial{}e}{\\p\n",
       "\n",
       "                      0⎤\n",
       "                       ⎥\n",
       "                      0⎥\n",
       "                       ⎥\n",
       "                      0⎥\n",
       "                       ⎥\n",
       "artial{}X_{\\beta}}⋅ρ  ρ⎦"
      ]
     },
     "execution_count": 15,
     "metadata": {},
     "output_type": "execute_result"
    }
   ],
   "source": [
    "A"
   ]
  },
  {
   "cell_type": "code",
   "execution_count": 16,
   "metadata": {},
   "outputs": [
    {
     "data": {
      "image/png": "[encoded data removed]",
      "text/latex": [
       "$\\displaystyle \\left[\\begin{matrix}1 & 0 & 0 & 0\\\\- \\frac{X_{\\alpha}}{\\rho} & \\frac{1}{\\rho} & 0 & 0\\\\- \\frac{X_{\\beta}}{\\rho} & 0 & \\frac{1}{\\rho} & 0\\\\\\frac{X_{\\alpha} \\frac{\\partial{}e}{\\partial{}X_{\\alpha}} + X_{\\beta} \\frac{\\partial{}e}{\\partial{}X_{\\beta}} - e}{\\rho} & - \\frac{\\frac{\\partial{}e}{\\partial{}X_{\\alpha}}}{\\rho} & - \\frac{\\frac{\\partial{}e}{\\partial{}X_{\\beta}}}{\\rho} & \\frac{1}{\\rho}\\end{matrix}\\right]$"
      ],
      "text/plain": [
       "⎡                                                     1                       \n",
       "⎢                                                                             \n",
       "⎢                                               -X_{\\alpha}                   \n",
       "⎢                                               ────────────                  \n",
       "⎢                                                    ρ                        \n",
       "⎢                                                                             \n",
       "⎢                                                -X_{\\beta}                   \n",
       "⎢                                                ───────────                  \n",
       "⎢                                                     ρ                       \n",
       "⎢                                                                             \n",
       "⎢X_{\\alpha}⋅\\frac{\\partial{}e}{\\partial{}X_{\\alpha}} + X_{\\beta}⋅\\frac{\\partia\n",
       "⎢─────────────────────────────────────────────────────────────────────────────\n",
       "⎣                                                     ρ                       \n",
       "\n",
       "                                                    0                         \n",
       "                                                                              \n",
       "                                                    1                         \n",
       "                                                    ─                         \n",
       "                                                    ρ                         \n",
       "                                                                              \n",
       "                                                                              \n",
       "                                                    0                         \n",
       "                                                                              \n",
       "                                                                              \n",
       "l{}e}{\\partial{}X_{\\beta}} - e  -\\frac{\\partial{}e}{\\partial{}X_{\\alpha}}   -\\\n",
       "──────────────────────────────  ──────────────────────────────────────────  ──\n",
       "                                                    ρ                         \n",
       "\n",
       "                  0                      0⎤\n",
       "                                          ⎥\n",
       "                                          ⎥\n",
       "                  0                      0⎥\n",
       "                                          ⎥\n",
       "                                          ⎥\n",
       "                  1                       ⎥\n",
       "                  ─                      0⎥\n",
       "                  ρ                       ⎥\n",
       "                                          ⎥\n",
       "frac{\\partial{}e}{\\partial{}X_{\\beta}}   1⎥\n",
       "───────────────────────────────────────  ─⎥\n",
       "                  ρ                      ρ⎦"
      ]
     },
     "execution_count": 16,
     "metadata": {},
     "output_type": "execute_result"
    }
   ],
   "source": [
    "dwdU = simplify(A.inv())\n",
    "dwdU"
   ]
  },
  {
   "cell_type": "code",
   "execution_count": 17,
   "metadata": {},
   "outputs": [
    {
     "data": {
      "image/png": "[encoded data removed]",
      "text/latex": [
       "$\\displaystyle \\left[\\begin{matrix}0 & 0 & 0 & 0\\\\\\frac{\\partial\\omega_\\alpha}{\\partial\\rho} \\rho + \\omega_{\\alpha} & \\frac{\\partial{}\\omega_\\alpha}{\\partial{}X_\\alpha} \\rho & \\frac{\\partial{}\\omega_\\alpha}{\\partial{}X_\\beta} \\rho & \\frac{\\partial{}\\omega_\\alpha}{\\partial{}e} \\rho\\\\\\frac{\\partial{}\\omega_\\beta}{\\partial\\rho} \\rho + \\omega_{\\beta} & \\frac{\\partial{}\\omega_\\beta}{\\partial{}X_\\alpha} \\rho & \\frac{\\partial{}\\omega_\\beta}{\\partial{}X_\\beta} \\rho & \\frac{\\partial{}\\omega_\\beta}{\\partial{}e} \\rho\\\\S + \\frac{\\partial{}S}{\\partial\\rho} \\rho & \\frac{\\partial{}S}{\\partial{}X_\\alpha} \\rho & \\frac{\\partial{}S}{\\partial{}X_\\beta} \\rho & \\frac{\\partial{}S}{\\partial{}e} \\rho\\end{matrix}\\right]$"
      ],
      "text/plain": [
       "⎡                             0                                               \n",
       "⎢                                                                             \n",
       "⎢\\frac{\\partial\\omega_\\alpha}{\\partial\\rho}⋅ρ + \\omega_\\alpha  \\frac{\\partial{\n",
       "⎢                                                                             \n",
       "⎢\\frac{\\partial{}\\omega_\\beta}{\\partial\\rho}⋅ρ + \\omega_\\beta  \\frac{\\partial{\n",
       "⎢                                                                             \n",
       "⎣           S + \\frac{\\partial{}S}{\\partial\\rho}⋅ρ                   \\frac{\\pa\n",
       "\n",
       "          0                                                     0             \n",
       "                                                                              \n",
       "}\\omega_\\alpha}{\\partial{}X_\\alpha}⋅ρ  \\frac{\\partial{}\\omega_\\alpha}{\\partial\n",
       "                                                                              \n",
       "}\\omega_\\beta}{\\partial{}X_\\alpha}⋅ρ   \\frac{\\partial{}\\omega_\\beta}{\\partial{\n",
       "                                                                              \n",
       "rtial{}S}{\\partial{}X_\\alpha}⋅ρ              \\frac{\\partial{}S}{\\partial{}X_\\b\n",
       "\n",
       "                                    0                      ⎤\n",
       "                                                           ⎥\n",
       "{}X_\\beta}⋅ρ  \\frac{\\partial{}\\omega_\\alpha}{\\partial{}e}⋅ρ⎥\n",
       "                                                           ⎥\n",
       "}X_\\beta}⋅ρ   \\frac{\\partial{}\\omega_\\beta}{\\partial{}e}⋅ρ ⎥\n",
       "                                                           ⎥\n",
       "eta}⋅ρ              \\frac{\\partial{}S}{\\partial{}e}⋅ρ      ⎦"
      ]
     },
     "execution_count": 17,
     "metadata": {},
     "output_type": "execute_result"
    }
   ],
   "source": [
    "dRdw = Matrix(\n",
    "    [[0, 0, 0, 0],\n",
    "     [oma + r*domadXr, r*domadXa, r*domadXb, r*domade],\n",
    "     [omb + r*dombdXr, r*dombdXa, r*dombdXb, r*dombde],\n",
    "     [S + r*dSdr, r*dSdXa, r*dSdXb, r*dSde]])\n",
    "\n",
    "dRdw"
   ]
  },
  {
   "cell_type": "code",
   "execution_count": 18,
   "metadata": {},
   "outputs": [
    {
     "data": {
      "image/png": "[encoded data removed]",
      "text/latex": [
       "$\\displaystyle \\left[\\begin{matrix}0 & 0 & 0 & 0\\\\- X_{\\alpha} \\frac{\\partial{}\\omega_\\alpha}{\\partial{}X_\\alpha} - X_{\\beta} \\frac{\\partial{}\\omega_\\alpha}{\\partial{}X_\\beta} + \\frac{\\partial\\omega_\\alpha}{\\partial\\rho} \\rho + \\frac{\\partial{}\\omega_\\alpha}{\\partial{}e} \\left(X_{\\alpha} \\frac{\\partial{}e}{\\partial{}X_{\\alpha}} + X_{\\beta} \\frac{\\partial{}e}{\\partial{}X_{\\beta}} - e\\right) + \\omega_{\\alpha} & \\frac{\\partial{}\\omega_\\alpha}{\\partial{}X_\\alpha} - \\frac{\\partial{}\\omega_\\alpha}{\\partial{}e} \\frac{\\partial{}e}{\\partial{}X_{\\alpha}} & \\frac{\\partial{}\\omega_\\alpha}{\\partial{}X_\\beta} - \\frac{\\partial{}\\omega_\\alpha}{\\partial{}e} \\frac{\\partial{}e}{\\partial{}X_{\\beta}} & \\frac{\\partial{}\\omega_\\alpha}{\\partial{}e}\\\\- X_{\\alpha} \\frac{\\partial{}\\omega_\\beta}{\\partial{}X_\\alpha} - X_{\\beta} \\frac{\\partial{}\\omega_\\beta}{\\partial{}X_\\beta} + \\frac{\\partial{}\\omega_\\beta}{\\partial\\rho} \\rho + \\frac{\\partial{}\\omega_\\beta}{\\partial{}e} \\left(X_{\\alpha} \\frac{\\partial{}e}{\\partial{}X_{\\alpha}} + X_{\\beta} \\frac{\\partial{}e}{\\partial{}X_{\\beta}} - e\\right) + \\omega_{\\beta} & \\frac{\\partial{}\\omega_\\beta}{\\partial{}X_\\alpha} - \\frac{\\partial{}\\omega_\\beta}{\\partial{}e} \\frac{\\partial{}e}{\\partial{}X_{\\alpha}} & \\frac{\\partial{}\\omega_\\beta}{\\partial{}X_\\beta} - \\frac{\\partial{}\\omega_\\beta}{\\partial{}e} \\frac{\\partial{}e}{\\partial{}X_{\\beta}} & \\frac{\\partial{}\\omega_\\beta}{\\partial{}e}\\\\S - X_{\\alpha} \\frac{\\partial{}S}{\\partial{}X_\\alpha} - X_{\\beta} \\frac{\\partial{}S}{\\partial{}X_\\beta} + \\frac{\\partial{}S}{\\partial\\rho} \\rho + \\frac{\\partial{}S}{\\partial{}e} \\left(X_{\\alpha} \\frac{\\partial{}e}{\\partial{}X_{\\alpha}} + X_{\\beta} \\frac{\\partial{}e}{\\partial{}X_{\\beta}} - e\\right) & \\frac{\\partial{}S}{\\partial{}X_\\alpha} - \\frac{\\partial{}S}{\\partial{}e} \\frac{\\partial{}e}{\\partial{}X_{\\alpha}} & \\frac{\\partial{}S}{\\partial{}X_\\beta} - \\frac{\\partial{}S}{\\partial{}e} \\frac{\\partial{}e}{\\partial{}X_{\\beta}} & \\frac{\\partial{}S}{\\partial{}e}\\end{matrix}\\right]$"
      ],
      "text/plain": [
       "⎡                                                                             \n",
       "⎢                                                                             \n",
       "⎢-X_{\\alpha}⋅\\frac{\\partial{}\\omega_\\alpha}{\\partial{}X_\\alpha} - X_{\\beta}⋅\\f\n",
       "⎢                                                                             \n",
       "⎢ -X_{\\alpha}⋅\\frac{\\partial{}\\omega_\\beta}{\\partial{}X_\\alpha} - X_{\\beta}⋅\\f\n",
       "⎢                                                                             \n",
       "⎣                             S - X_{\\alpha}⋅\\frac{\\partial{}S}{\\partial{}X_\\a\n",
       "\n",
       "                                                                              \n",
       "                                                                              \n",
       "rac{\\partial{}\\omega_\\alpha}{\\partial{}X_\\beta} + \\frac{\\partial\\omega_\\alpha}\n",
       "                                                                              \n",
       "rac{\\partial{}\\omega_\\beta}{\\partial{}X_\\beta} + \\frac{\\partial{}\\omega_\\beta}\n",
       "                                                                              \n",
       "lpha} - X_{\\beta}⋅\\frac{\\partial{}S}{\\partial{}X_\\beta} + \\frac{\\partial{}S}{\\\n",
       "\n",
       "                0                                                             \n",
       "                                                                              \n",
       "{\\partial\\rho}⋅ρ + \\frac{\\partial{}\\omega_\\alpha}{\\partial{}e}⋅(X_{\\alpha}⋅\\fr\n",
       "                                                                              \n",
       "{\\partial\\rho}⋅ρ + \\frac{\\partial{}\\omega_\\beta}{\\partial{}e}⋅(X_{\\alpha}⋅\\fra\n",
       "                                                                              \n",
       "partial\\rho}⋅ρ + \\frac{\\partial{}S}{\\partial{}e}⋅(X_{\\alpha}⋅\\frac{\\partial{}e\n",
       "\n",
       "                                                                              \n",
       "                                                                              \n",
       "ac{\\partial{}e}{\\partial{}X_{\\alpha}} + X_{\\beta}⋅\\frac{\\partial{}e}{\\partial{\n",
       "                                                                              \n",
       "c{\\partial{}e}{\\partial{}X_{\\alpha}} + X_{\\beta}⋅\\frac{\\partial{}e}{\\partial{}\n",
       "                                                                              \n",
       "}{\\partial{}X_{\\alpha}} + X_{\\beta}⋅\\frac{\\partial{}e}{\\partial{}X_{\\beta}} - \n",
       "\n",
       "                                                                              \n",
       "                                                                              \n",
       "}X_{\\beta}} - e) + \\omega_\\alpha  \\frac{\\partial{}\\omega_\\alpha}{\\partial{}X_\\\n",
       "                                                                              \n",
       "X_{\\beta}} - e) + \\omega_\\beta     \\frac{\\partial{}\\omega_\\beta}{\\partial{}X_\\\n",
       "                                                                              \n",
       "e)                                            \\frac{\\partial{}S}{\\partial{}X_\\\n",
       "\n",
       "                        0                                                     \n",
       "                                                                              \n",
       "alpha} - \\frac{\\partial{}\\omega_\\alpha}{\\partial{}e}⋅\\frac{\\partial{}e}{\\parti\n",
       "                                                                              \n",
       "alpha} - \\frac{\\partial{}\\omega_\\beta}{\\partial{}e}⋅\\frac{\\partial{}e}{\\partia\n",
       "                                                                              \n",
       "alpha} - \\frac{\\partial{}S}{\\partial{}e}⋅\\frac{\\partial{}e}{\\partial{}X_{\\alph\n",
       "\n",
       "                                                                              \n",
       "                                                                              \n",
       "al{}X_{\\alpha}}  \\frac{\\partial{}\\omega_\\alpha}{\\partial{}X_\\beta} - \\frac{\\pa\n",
       "                                                                              \n",
       "l{}X_{\\alpha}}    \\frac{\\partial{}\\omega_\\beta}{\\partial{}X_\\beta} - \\frac{\\pa\n",
       "                                                                              \n",
       "a}}                          \\frac{\\partial{}S}{\\partial{}X_\\beta} - \\frac{\\pa\n",
       "\n",
       "      0                                                                       \n",
       "                                                                              \n",
       "rtial{}\\omega_\\alpha}{\\partial{}e}⋅\\frac{\\partial{}e}{\\partial{}X_{\\beta}}  \\f\n",
       "                                                                              \n",
       "rtial{}\\omega_\\beta}{\\partial{}e}⋅\\frac{\\partial{}e}{\\partial{}X_{\\beta}}   \\f\n",
       "                                                                              \n",
       "rtial{}S}{\\partial{}e}⋅\\frac{\\partial{}e}{\\partial{}X_{\\beta}}                \n",
       "\n",
       "                   0                     ⎤\n",
       "                                         ⎥\n",
       "rac{\\partial{}\\omega_\\alpha}{\\partial{}e}⎥\n",
       "                                         ⎥\n",
       "rac{\\partial{}\\omega_\\beta}{\\partial{}e} ⎥\n",
       "                                         ⎥\n",
       "    \\frac{\\partial{}S}{\\partial{}e}      ⎦"
      ]
     },
     "execution_count": 18,
     "metadata": {},
     "output_type": "execute_result"
    }
   ],
   "source": [
    "dRdU = simplify(dRdw * dwdU)\n",
    "dRdU"
   ]
  },
  {
   "cell_type": "code",
   "execution_count": null,
   "metadata": {},
   "outputs": [],
   "source": []
  },
  {
   "cell_type": "code",
   "execution_count": null,
   "metadata": {},
   "outputs": [],
   "source": []
  }
 ],
 "metadata": {
  "kernelspec": {
   "display_name": "Python 3",
   "language": "python",
   "name": "python3"
  },
  "language_info": {
   "codemirror_mode": {
    "name": "ipython",
    "version": 3
   },
   "file_extension": ".py",
   "mimetype": "text/x-python",
   "name": "python",
   "nbconvert_exporter": "python",
   "pygments_lexer": "ipython3",
   "version": "3.9.6"
  }
 },
 "nbformat": 4,
 "nbformat_minor": 4
}
